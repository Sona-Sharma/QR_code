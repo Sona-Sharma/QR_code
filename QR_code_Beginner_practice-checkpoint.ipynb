{
 "cells": [
  {
   "cell_type": "code",
   "execution_count": 13,
   "metadata": {},
   "outputs": [],
   "source": [
    "import qrcode\n",
    "img = qrcode.make(\"https://www.youtube.com/\")\n",
    "img.save(\"youtubeQR.JPG\")\n"
   ]
  },
  {
   "cell_type": "code",
   "execution_count": 17,
   "metadata": {},
   "outputs": [],
   "source": [
    "import qrcode\n",
    "img = qrcode.make(\"India is a country with many religions. I love India.\")\n",
    "img.save(\"youtubeQR.jpg\")"
   ]
  },
  {
   "cell_type": "code",
   "execution_count": 21,
   "metadata": {},
   "outputs": [
    {
     "name": "stdout",
     "output_type": "stream",
     "text": [
      "Decoded text is:  India is a country with many religions. I love India.\n"
     ]
    }
   ],
   "source": [
    "'''So this is the one part, which involves generating a QR Code and scanning \n",
    "it. But what if we want to read this QR Code i.e., now we want to know what \n",
    "was encoded in the QR Code without scanning it. For this, we will use OpenCV. \n",
    "OpenCV is a library of programming functions focused on real-time computer vision tasks.\n",
    "\n",
    "Install opencv: pip install opencv-python'''\n",
    "\n",
    "\n",
    "\n",
    "\n",
    "import cv2\n",
    "d = cv2.QRCodeDetector()\n",
    "val, _, _ = d.detectAndDecode(cv2.imread(\"youtubeQR.jpg\"))\n",
    "print(\"Decoded text is: \", val)"
   ]
  },
  {
   "cell_type": "code",
   "execution_count": null,
   "metadata": {},
   "outputs": [],
   "source": []
  }
 ],
 "metadata": {
  "kernelspec": {
   "display_name": "Python 3",
   "language": "python",
   "name": "python3"
  },
  "language_info": {
   "codemirror_mode": {
    "name": "ipython",
    "version": 3
   },
   "file_extension": ".py",
   "mimetype": "text/x-python",
   "name": "python",
   "nbconvert_exporter": "python",
   "pygments_lexer": "ipython3",
   "version": "3.7.6"
  }
 },
 "nbformat": 4,
 "nbformat_minor": 4
}
